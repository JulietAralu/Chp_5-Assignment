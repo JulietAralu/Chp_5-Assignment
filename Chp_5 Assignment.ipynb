{
 "cells": [
  {
   "cell_type": "markdown",
   "id": "f9a93f99",
   "metadata": {},
   "source": [
    "# Chapter 5 Assignment"
   ]
  },
  {
   "cell_type": "code",
   "execution_count": 30,
   "id": "951461f6",
   "metadata": {},
   "outputs": [],
   "source": [
    "## Preparing the note book\n",
    "import sys\n",
    "assert sys.version_info >= (3, 5)\n",
    "\n",
    "\n",
    "import sklearn\n",
    "assert sklearn.__version__ >= \"0.20\"\n",
    "\n",
    "\n",
    "import numpy as np\n",
    "import os\n",
    "\n",
    "\n",
    "np.random.seed(42)\n",
    "\n",
    "\n",
    "%matplotlib inline\n",
    "import matplotlib as mpl\n",
    "import matplotlib.pyplot as plt\n",
    "mpl.rc('axes', labelsize=14)\n",
    "mpl.rc('xtick', labelsize=12)\n",
    "mpl.rc('ytick', labelsize=12)\n",
    "\n",
    "\n",
    "PROJECT_ROOT_DIR = \".\"\n",
    "CHAPTER_ID = \"svm\"\n",
    "IMAGES_PATH = os.path.join(PROJECT_ROOT_DIR, \"images\", CHAPTER_ID)\n",
    "os.makedirs(IMAGES_PATH, exist_ok=True)\n",
    "\n",
    "def save_fig(fig_id, tight_layout=True, fig_extension=\"png\", resolution=300):\n",
    "    path = os.path.join(IMAGES_PATH, fig_id + \".\" + fig_extension)\n",
    "    print(\"Saving figure\", fig_id)\n",
    "    if tight_layout:\n",
    "        plt.tight_layout()\n",
    "    plt.savefig(path, format=fig_extension, dpi=resolution)"
   ]
  },
  {
   "cell_type": "markdown",
   "id": "201b3e6f",
   "metadata": {},
   "source": [
    "# 1. What is the fundamental idea behind Support Vector Machines?\n",
    "\n",
    "The fundamental idea behind Support Vector Machines is to fit the widest possible “street” between the classes. For example when we look at the  iris dataset, the two classes can clearly be separated easily with a straight line. The model whose decision boundary is represented by the dashed line is so bad that it does not even separate the classes properly. The other two models work perfectly on this training set, but their decision boundaries come so close to the instances that these models will probably not perform as well on new instances. \n",
    "\n",
    "In contrast, the decision boundary of an SVM classifier not only separates the two classes but also stays as far away from the closest training instances as possible.Also, when performing soft margin classification, the SVM searches for a compromise between perfectly separating the two classes and having the widest possible street. Another key idea is to use kernels when training on nonlinear datasets.\n"
   ]
  },
  {
   "cell_type": "markdown",
   "id": "e313e8fa",
   "metadata": {},
   "source": [
    "# 2. What is a support vector?\n",
    "\n",
    "A Support Vector Machine (SVM) is a powerful and versatile Machine Learning model, capable of performing linear or nonlinear classification, regression, and even outlier detection.\n",
    "\n",
    "In the SVM, we plot each data item as a point in n-dimensional space (where n is a number of features you have) with the value of each feature being the value of a particular coordinate. Then, we perform classification by finding the hyper-plane that differentiates the two classes very well.  \n",
    "\n",
    "After training an SVM, a support vector is any instance located on the “street”, including its border. The decision boundary is entirely determined by the support vectors. "
   ]
  },
  {
   "cell_type": "markdown",
   "id": "306fc4a4",
   "metadata": {},
   "source": [
    "# 3. Why is it important to scale the inputs when using SVMs?\n",
    "\n",
    "SVMs are sensitive to scaling and it would try to fit the largest possible “street” between the classes, so if the training set is not scaled, the SVM will tend to neglect small features."
   ]
  },
  {
   "cell_type": "markdown",
   "id": "e862f36c",
   "metadata": {},
   "source": [
    "# 4. Can an SVM classifier output a confidence score when it classifies an instance? What about a probability?\n",
    "\n",
    "SVM classifier can output the distance between the test instance and the decision boundary, and this can be used as a confidence score. However, this score cannot be directly converted into an estimation of the class probability. If the probability is set to true creating an SVM in Scikit-Learn, then after training it will calibrate the probabilities using Logistic Regression on the SVM’s scores (trained by an additional five-fold cross-validation on the training data). This will add the predict_proba() and predict_log_proba() methods to the SVM.\n",
    "\n",
    "SVM classifiers do not output probabilities for each class.\n",
    "\n",
    "\n"
   ]
  },
  {
   "cell_type": "markdown",
   "id": "6fd0d885",
   "metadata": {},
   "source": [
    "# 5. Should you use the primal or the dual form of the SVM problem to train a model on a training set with millions of instances and hundreds of features?\n",
    "\n",
    "The Primal form of SVM problem should be used instead of the Dual form.\n",
    "\n",
    "This applies only the the Linear SVM's because the kernelized SVMs can only use the dual form. The computational complexity of the primal form of the SVM problem is proportional to the number of training instances m, while the computational complexity of the dual form is proportional to a number between m2 and m3. Therfore, if there are millions of instances, the primal form is preferred overe the dual form  because it will be much too slow."
   ]
  },
  {
   "cell_type": "markdown",
   "id": "eacc23eb",
   "metadata": {},
   "source": [
    "# 6. Say you’ve trained an SVM classifier with an RBF kernel, but it seems to underfit the training set. Should you increase or decrease γ (gamma)? What about C?\n",
    "\n",
    "If an SVM classifier trained with an RBF kernel underfits the training set, the regularization might be too much. \n",
    "To decrease it, you will need to increase gamma or C (or both of them)."
   ]
  },
  {
   "attachments": {
    "image-2.png": {
     "image/png": "[encoded data removed]"
    },
    "image-3.png": {
     "image/png": "[encoded data removed]"
    }
   },
   "cell_type": "markdown",
   "id": "e440a9f9",
   "metadata": {},
   "source": [
    "# 7. How should you set the QP parameters (H, f, A, and b) to solve the soft margin linear SVM classifier problem using an off-the-shelf QP solver?\n",
    "\n",
    "The QP parameters for the hard margin problem H′, f′, A′, and b′. \n",
    "The QP parameters for the soft margin problem have m additional parameters (np = n + 1 + m) and m additional constraints (nc = 2m). They can be defined like so:\n",
    "• H is equal to H′, plus m columns of 0s on the right and m rows of 0s at the\n",
    "bottom: H =\n",
    "H′ 0 ⋯\n",
    "0 0\n",
    "⋮ ⋱\n",
    "![image-2.png](attachment:image-2.png)\n",
    "\n",
    "• f is equal to f′ with m additional elements, all equal to the value of the hyperparameter C.\n",
    "• b is equal to b′ with m additional elements, all equal to 0.\n",
    "• A is equal to A′, with an extra m × m identity matrix Im appended to the right,\n",
    "–*I*m just below it, and the rest filled with 0s: A =\n",
    "A′ Im\n",
    "0 −Im\n",
    "\n",
    "![image-3.png](attachment:image-3.png)"
   ]
  },
  {
   "cell_type": "markdown",
   "id": "4589ae78",
   "metadata": {},
   "source": [
    "# 8. Train a LinearSVC on a linearly separable dataset. Then train an SVC and a SGDClassifier on the same dataset. See if you can get them to produce roughly the same model.\n"
   ]
  },
  {
   "cell_type": "code",
   "execution_count": 31,
   "id": "0cab04f0",
   "metadata": {},
   "outputs": [],
   "source": [
    "from sklearn import datasets\n",
    "\n",
    "iris = datasets.load_iris()\n",
    "X = iris[\"data\"][:, (2, 3)]  # petal length, petal width\n",
    "y = iris[\"target\"]\n",
    "\n",
    "setosa_or_versicolor = (y == 0) | (y == 1)\n",
    "X = X[setosa_or_versicolor]\n",
    "y = y[setosa_or_versicolor]"
   ]
  },
  {
   "cell_type": "code",
   "execution_count": 32,
   "id": "835fd0b5",
   "metadata": {},
   "outputs": [
    {
     "name": "stdout",
     "output_type": "stream",
     "text": [
      "LinearSVC:                    [0.28475098] [[1.05364854 1.09903804]]\n",
      "SVC:                          [0.31896852] [[1.1203284  1.02625193]]\n",
      "SGDClassifier(alpha=0.00200): [0.117] [[0.77714169 0.72981762]]\n"
     ]
    }
   ],
   "source": [
    "from sklearn.svm import SVC, LinearSVC\n",
    "from sklearn.linear_model import SGDClassifier\n",
    "from sklearn.preprocessing import StandardScaler\n",
    "\n",
    "C = 5\n",
    "alpha = 1 / (C * len(X))\n",
    "\n",
    "lin_clf = LinearSVC(loss=\"hinge\", C=C, random_state=42)\n",
    "svm_clf = SVC(kernel=\"linear\", C=C)\n",
    "sgd_clf = SGDClassifier(loss=\"hinge\", learning_rate=\"constant\", eta0=0.001, alpha=alpha,\n",
    "                        max_iter=1000, tol=1e-3, random_state=42)\n",
    "\n",
    "scaler = StandardScaler()\n",
    "X_scaled = scaler.fit_transform(X)\n",
    "\n",
    "lin_clf.fit(X_scaled, y)\n",
    "svm_clf.fit(X_scaled, y)\n",
    "sgd_clf.fit(X_scaled, y)\n",
    "\n",
    "print(\"LinearSVC:                   \", lin_clf.intercept_, lin_clf.coef_)\n",
    "print(\"SVC:                         \", svm_clf.intercept_, svm_clf.coef_)\n",
    "print(\"SGDClassifier(alpha={:.5f}):\".format(sgd_clf.alpha), sgd_clf.intercept_, sgd_clf.coef_)\n"
   ]
  },
  {
   "cell_type": "code",
   "execution_count": 33,
   "id": "4dbff69b",
   "metadata": {},
   "outputs": [
    {
     "data": {
      "image/png": "[encoded data removed]",
      "text/plain": [
       "<Figure size 792x288 with 1 Axes>"
      ]
     },
     "metadata": {
      "needs_background": "light"
     },
     "output_type": "display_data"
    }
   ],
   "source": [
    "w1 = -lin_clf.coef_[0, 0]/lin_clf.coef_[0, 1]\n",
    "b1 = -lin_clf.intercept_[0]/lin_clf.coef_[0, 1]\n",
    "w2 = -svm_clf.coef_[0, 0]/svm_clf.coef_[0, 1]\n",
    "b2 = -svm_clf.intercept_[0]/svm_clf.coef_[0, 1]\n",
    "w3 = -sgd_clf.coef_[0, 0]/sgd_clf.coef_[0, 1]\n",
    "b3 = -sgd_clf.intercept_[0]/sgd_clf.coef_[0, 1]\n",
    "\n",
    "# Transform the decision boundary lines back to the original scale\n",
    "line1 = scaler.inverse_transform([[-10, -10 * w1 + b1], [10, 10 * w1 + b1]])\n",
    "line2 = scaler.inverse_transform([[-10, -10 * w2 + b2], [10, 10 * w2 + b2]])\n",
    "line3 = scaler.inverse_transform([[-10, -10 * w3 + b3], [10, 10 * w3 + b3]])\n",
    "\n",
    "# Plot all three decision boundaries\n",
    "plt.figure(figsize=(11, 4))\n",
    "plt.plot(line1[:, 0], line1[:, 1], \"k:\", label=\"LinearSVC\")\n",
    "plt.plot(line2[:, 0], line2[:, 1], \"b--\", linewidth=2, label=\"SVC\")\n",
    "plt.plot(line3[:, 0], line3[:, 1], \"r-\", label=\"SGDClassifier\")\n",
    "plt.plot(X[:, 0][y==1], X[:, 1][y==1], \"bs\") # label=\"Iris versicolor\"\n",
    "plt.plot(X[:, 0][y==0], X[:, 1][y==0], \"yo\") # label=\"Iris setosa\"\n",
    "plt.xlabel(\"Petal length\", fontsize=14)\n",
    "plt.ylabel(\"Petal width\", fontsize=14)\n",
    "plt.legend(loc=\"upper center\", fontsize=14)\n",
    "plt.axis([0, 5.5, 0, 2])\n",
    "\n",
    "plt.show()"
   ]
  },
  {
   "cell_type": "markdown",
   "id": "edb450c3",
   "metadata": {},
   "source": [
    "# 9. Train an SVM classifier on the MNIST dataset. Since SVM classifiers are binaryclassifiers, you will need to use one-versus-the-rest to classify all 10 digits. Youmay want to tune the hyperparameters using small validation sets to speed up theprocess. What accuracy can you reach?\n"
   ]
  },
  {
   "cell_type": "code",
   "execution_count": 34,
   "id": "4db596ae",
   "metadata": {},
   "outputs": [],
   "source": [
    "from sklearn.datasets import fetch_openml\n",
    "mnist = fetch_openml('mnist_784', version=1, cache=True, as_frame=False)\n",
    "\n",
    "X = mnist[\"data\"]\n",
    "y = mnist[\"target\"].astype(np.uint8)\n",
    "\n",
    "X_train = X[:60000]\n",
    "y_train = y[:60000]\n",
    "X_test = X[60000:]\n",
    "y_test = y[60000:]"
   ]
  },
  {
   "cell_type": "code",
   "execution_count": 35,
   "id": "170841f8",
   "metadata": {},
   "outputs": [
    {
     "name": "stderr",
     "output_type": "stream",
     "text": [
      "C:\\Users\\chiom\\code\\coding\\lib\\site-packages\\sklearn\\svm\\_base.py:985: ConvergenceWarning: Liblinear failed to converge, increase the number of iterations.\n",
      "  warnings.warn(\"Liblinear failed to converge, increase \"\n"
     ]
    },
    {
     "data": {
      "text/plain": [
       "LinearSVC(random_state=42)"
      ]
     },
     "execution_count": 35,
     "metadata": {},
     "output_type": "execute_result"
    }
   ],
   "source": [
    "lin_clf = LinearSVC(random_state=42)\n",
    "lin_clf.fit(X_train, y_train)"
   ]
  },
  {
   "cell_type": "code",
   "execution_count": 36,
   "id": "465954f4",
   "metadata": {},
   "outputs": [
    {
     "data": {
      "text/plain": [
       "0.8348666666666666"
      ]
     },
     "execution_count": 36,
     "metadata": {},
     "output_type": "execute_result"
    }
   ],
   "source": [
    "from sklearn.metrics import accuracy_score\n",
    "\n",
    "y_pred = lin_clf.predict(X_train)\n",
    "accuracy_score(y_train, y_pred)"
   ]
  },
  {
   "cell_type": "code",
   "execution_count": 37,
   "id": "163fd3a8",
   "metadata": {},
   "outputs": [],
   "source": [
    "scaler = StandardScaler()\n",
    "X_train_scaled = scaler.fit_transform(X_train.astype(np.float32))\n",
    "X_test_scaled = scaler.transform(X_test.astype(np.float32))"
   ]
  },
  {
   "cell_type": "code",
   "execution_count": 9,
   "id": "0d246492",
   "metadata": {},
   "outputs": [
    {
     "name": "stderr",
     "output_type": "stream",
     "text": [
      "C:\\Users\\chiom\\code\\coding\\lib\\site-packages\\sklearn\\svm\\_base.py:985: ConvergenceWarning: Liblinear failed to converge, increase the number of iterations.\n",
      "  warnings.warn(\"Liblinear failed to converge, increase \"\n"
     ]
    },
    {
     "data": {
      "text/plain": [
       "LinearSVC(random_state=42)"
      ]
     },
     "execution_count": 9,
     "metadata": {},
     "output_type": "execute_result"
    }
   ],
   "source": [
    "lin_clf = LinearSVC(random_state=42)\n",
    "lin_clf.fit(X_train_scaled, y_train)"
   ]
  },
  {
   "cell_type": "code",
   "execution_count": 11,
   "id": "0456b910",
   "metadata": {},
   "outputs": [
    {
     "data": {
      "text/plain": [
       "0.9217333333333333"
      ]
     },
     "execution_count": 11,
     "metadata": {},
     "output_type": "execute_result"
    }
   ],
   "source": [
    "y_pred = lin_clf.predict(X_train_scaled)\n",
    "accuracy_score(y_train, y_pred)"
   ]
  },
  {
   "cell_type": "code",
   "execution_count": 12,
   "id": "88f0ca36",
   "metadata": {},
   "outputs": [
    {
     "data": {
      "text/plain": [
       "SVC()"
      ]
     },
     "execution_count": 12,
     "metadata": {},
     "output_type": "execute_result"
    }
   ],
   "source": [
    "svm_clf = SVC(gamma=\"scale\")\n",
    "svm_clf.fit(X_train_scaled[:10000], y_train[:10000])"
   ]
  },
  {
   "cell_type": "code",
   "execution_count": 13,
   "id": "14bafc22",
   "metadata": {},
   "outputs": [
    {
     "data": {
      "text/plain": [
       "0.9455333333333333"
      ]
     },
     "execution_count": 13,
     "metadata": {},
     "output_type": "execute_result"
    }
   ],
   "source": [
    "y_pred = svm_clf.predict(X_train_scaled)\n",
    "accuracy_score(y_train, y_pred)"
   ]
  },
  {
   "cell_type": "code",
   "execution_count": 14,
   "id": "8c1f636b",
   "metadata": {},
   "outputs": [
    {
     "name": "stdout",
     "output_type": "stream",
     "text": [
      "Fitting 3 folds for each of 10 candidates, totalling 30 fits\n",
      "[CV] END ....C=10.50714306409916, gamma=0.029106359131330688; total time=   0.2s\n",
      "[CV] END ....C=10.50714306409916, gamma=0.029106359131330688; total time=   0.2s\n",
      "[CV] END ....C=10.50714306409916, gamma=0.029106359131330688; total time=   0.2s\n",
      "[CV] END ...C=6.986584841970366, gamma=0.0020513382630874496; total time=   0.1s\n",
      "[CV] END ...C=6.986584841970366, gamma=0.0020513382630874496; total time=   0.1s\n",
      "[CV] END ...C=6.986584841970366, gamma=0.0020513382630874496; total time=   0.1s\n",
      "[CV] END ..C=2.5599452033620267, gamma=0.0013066739238053278; total time=   0.1s\n",
      "[CV] END ..C=2.5599452033620267, gamma=0.0013066739238053278; total time=   0.2s\n",
      "[CV] END ..C=2.5599452033620267, gamma=0.0013066739238053278; total time=   0.2s\n",
      "[CV] END .....C=9.661761457749352, gamma=0.01593052261624101; total time=   0.3s\n",
      "[CV] END .....C=9.661761457749352, gamma=0.01593052261624101; total time=   0.3s\n",
      "[CV] END .....C=9.661761457749352, gamma=0.01593052261624101; total time=   0.2s\n",
      "[CV] END ...C=8.080725777960454, gamma=0.0010994335574766197; total time=   0.1s\n",
      "[CV] END ...C=8.080725777960454, gamma=0.0010994335574766197; total time=   0.1s\n",
      "[CV] END ...C=8.080725777960454, gamma=0.0010994335574766197; total time=   0.1s\n",
      "[CV] END ...C=10.699098521619943, gamma=0.046225890010208284; total time=   0.2s\n",
      "[CV] END ...C=10.699098521619943, gamma=0.046225890010208284; total time=   0.3s\n",
      "[CV] END ...C=10.699098521619943, gamma=0.046225890010208284; total time=   0.2s\n",
      "[CV] END ...C=3.1233911067827616, gamma=0.002310201887845293; total time=   0.2s\n",
      "[CV] END ...C=3.1233911067827616, gamma=0.002310201887845293; total time=   0.2s\n",
      "[CV] END ...C=3.1233911067827616, gamma=0.002310201887845293; total time=   0.2s\n",
      "[CV] END ....C=2.834045098534338, gamma=0.004059611610484304; total time=   0.2s\n",
      "[CV] END ....C=2.834045098534338, gamma=0.004059611610484304; total time=   0.2s\n",
      "[CV] END ....C=2.834045098534338, gamma=0.004059611610484304; total time=   0.2s\n",
      "[CV] END ...C=6.247564316322379, gamma=0.0073095398359129095; total time=   0.2s\n",
      "[CV] END ...C=6.247564316322379, gamma=0.0073095398359129095; total time=   0.2s\n",
      "[CV] END ...C=6.247564316322379, gamma=0.0073095398359129095; total time=   0.2s\n",
      "[CV] END ...C=3.9122914019804194, gamma=0.016738085788752122; total time=   0.2s\n",
      "[CV] END ...C=3.9122914019804194, gamma=0.016738085788752122; total time=   0.2s\n",
      "[CV] END ...C=3.9122914019804194, gamma=0.016738085788752122; total time=   0.2s\n"
     ]
    },
    {
     "data": {
      "text/plain": [
       "RandomizedSearchCV(cv=3, estimator=SVC(),\n",
       "                   param_distributions={'C': <scipy.stats._distn_infrastructure.rv_frozen object at 0x000001D0CAB49D00>,\n",
       "                                        'gamma': <scipy.stats._distn_infrastructure.rv_frozen object at 0x000001D0CE38E8E0>},\n",
       "                   verbose=2)"
      ]
     },
     "execution_count": 14,
     "metadata": {},
     "output_type": "execute_result"
    }
   ],
   "source": [
    "from sklearn.model_selection import RandomizedSearchCV\n",
    "from scipy.stats import reciprocal, uniform\n",
    "\n",
    "param_distributions = {\"gamma\": reciprocal(0.001, 0.1), \"C\": uniform(1, 10)}\n",
    "rnd_search_cv = RandomizedSearchCV(svm_clf, param_distributions, n_iter=10, verbose=2, cv=3)\n",
    "rnd_search_cv.fit(X_train_scaled[:1000], y_train[:1000])"
   ]
  },
  {
   "cell_type": "code",
   "execution_count": 15,
   "id": "d0c69bd5",
   "metadata": {},
   "outputs": [
    {
     "data": {
      "text/plain": [
       "SVC(C=8.080725777960454, gamma=0.0010994335574766197)"
      ]
     },
     "execution_count": 15,
     "metadata": {},
     "output_type": "execute_result"
    }
   ],
   "source": [
    "rnd_search_cv.best_estimator_"
   ]
  },
  {
   "cell_type": "code",
   "execution_count": 16,
   "id": "accdc15c",
   "metadata": {},
   "outputs": [
    {
     "data": {
      "text/plain": [
       "0.8619907332482183"
      ]
     },
     "execution_count": 16,
     "metadata": {},
     "output_type": "execute_result"
    }
   ],
   "source": [
    "rnd_search_cv.best_score_"
   ]
  },
  {
   "cell_type": "code",
   "execution_count": 17,
   "id": "703b228b",
   "metadata": {},
   "outputs": [
    {
     "data": {
      "text/plain": [
       "SVC(C=8.080725777960454, gamma=0.0010994335574766197)"
      ]
     },
     "execution_count": 17,
     "metadata": {},
     "output_type": "execute_result"
    }
   ],
   "source": [
    "rnd_search_cv.best_estimator_.fit(X_train_scaled, y_train)"
   ]
  },
  {
   "cell_type": "code",
   "execution_count": 18,
   "id": "df2a6308",
   "metadata": {},
   "outputs": [
    {
     "data": {
      "text/plain": [
       "0.998"
      ]
     },
     "execution_count": 18,
     "metadata": {},
     "output_type": "execute_result"
    }
   ],
   "source": [
    "y_pred = rnd_search_cv.best_estimator_.predict(X_train_scaled)\n",
    "accuracy_score(y_train, y_pred)"
   ]
  },
  {
   "cell_type": "code",
   "execution_count": 19,
   "id": "6006424e",
   "metadata": {},
   "outputs": [
    {
     "data": {
      "text/plain": [
       "0.973"
      ]
     },
     "execution_count": 19,
     "metadata": {},
     "output_type": "execute_result"
    }
   ],
   "source": [
    "y_pred = rnd_search_cv.best_estimator_.predict(X_test_scaled)\n",
    "accuracy_score(y_test, y_pred)"
   ]
  },
  {
   "cell_type": "markdown",
   "id": "ad8a97b3",
   "metadata": {},
   "source": [
    "# 10. Exercise: train an SVM regressor on the California housing dataset."
   ]
  },
  {
   "cell_type": "code",
   "execution_count": 20,
   "id": "19307664",
   "metadata": {},
   "outputs": [],
   "source": [
    "from sklearn.datasets import fetch_california_housing\n",
    "\n",
    "housing = fetch_california_housing()\n",
    "X = housing[\"data\"]\n",
    "y = housing[\"target\"]"
   ]
  },
  {
   "cell_type": "code",
   "execution_count": 21,
   "id": "86d0f9ab",
   "metadata": {},
   "outputs": [],
   "source": [
    "from sklearn.model_selection import train_test_split\n",
    "\n",
    "X_train, X_test, y_train, y_test = train_test_split(X, y, test_size=0.2, random_state=42)"
   ]
  },
  {
   "cell_type": "code",
   "execution_count": 22,
   "id": "c75f4db3",
   "metadata": {},
   "outputs": [],
   "source": [
    "from sklearn.preprocessing import StandardScaler\n",
    "\n",
    "scaler = StandardScaler()\n",
    "X_train_scaled = scaler.fit_transform(X_train)\n",
    "X_test_scaled = scaler.transform(X_test)"
   ]
  },
  {
   "cell_type": "code",
   "execution_count": 23,
   "id": "93881c83",
   "metadata": {},
   "outputs": [
    {
     "name": "stderr",
     "output_type": "stream",
     "text": [
      "C:\\Users\\chiom\\code\\coding\\lib\\site-packages\\sklearn\\svm\\_base.py:985: ConvergenceWarning: Liblinear failed to converge, increase the number of iterations.\n",
      "  warnings.warn(\"Liblinear failed to converge, increase \"\n"
     ]
    },
    {
     "data": {
      "text/plain": [
       "LinearSVR(random_state=42)"
      ]
     },
     "execution_count": 23,
     "metadata": {},
     "output_type": "execute_result"
    }
   ],
   "source": [
    "from sklearn.svm import LinearSVR\n",
    "\n",
    "lin_svr = LinearSVR(random_state=42)\n",
    "lin_svr.fit(X_train_scaled, y_train)"
   ]
  },
  {
   "cell_type": "code",
   "execution_count": 24,
   "id": "9eaec5ae",
   "metadata": {},
   "outputs": [
    {
     "data": {
      "text/plain": [
       "0.9641780189948642"
      ]
     },
     "execution_count": 24,
     "metadata": {},
     "output_type": "execute_result"
    }
   ],
   "source": [
    "from sklearn.metrics import mean_squared_error\n",
    "\n",
    "y_pred = lin_svr.predict(X_train_scaled)\n",
    "mse = mean_squared_error(y_train, y_pred)\n",
    "mse"
   ]
  },
  {
   "cell_type": "code",
   "execution_count": 25,
   "id": "8fd73822",
   "metadata": {},
   "outputs": [
    {
     "data": {
      "text/plain": [
       "0.9819256687727764"
      ]
     },
     "execution_count": 25,
     "metadata": {},
     "output_type": "execute_result"
    }
   ],
   "source": [
    "np.sqrt(mse)"
   ]
  },
  {
   "cell_type": "code",
   "execution_count": 26,
   "id": "b21ea32f",
   "metadata": {},
   "outputs": [
    {
     "name": "stdout",
     "output_type": "stream",
     "text": [
      "Fitting 3 folds for each of 10 candidates, totalling 30 fits\n",
      "[CV] END .....C=4.745401188473625, gamma=0.07969454818643928; total time=  11.8s\n",
      "[CV] END .....C=4.745401188473625, gamma=0.07969454818643928; total time=  11.8s\n",
      "[CV] END .....C=4.745401188473625, gamma=0.07969454818643928; total time=  12.0s\n",
      "[CV] END .....C=8.31993941811405, gamma=0.015751320499779724; total time=  11.8s\n",
      "[CV] END .....C=8.31993941811405, gamma=0.015751320499779724; total time=  12.4s\n",
      "[CV] END .....C=8.31993941811405, gamma=0.015751320499779724; total time=  10.9s\n",
      "[CV] END ....C=2.560186404424365, gamma=0.002051110418843397; total time=  10.0s\n",
      "[CV] END ....C=2.560186404424365, gamma=0.002051110418843397; total time=   9.7s\n",
      "[CV] END ....C=2.560186404424365, gamma=0.002051110418843397; total time=  10.0s\n",
      "[CV] END ....C=1.5808361216819946, gamma=0.05399484409787431; total time=   9.5s\n",
      "[CV] END ....C=1.5808361216819946, gamma=0.05399484409787431; total time=   9.5s\n",
      "[CV] END ....C=1.5808361216819946, gamma=0.05399484409787431; total time=   9.6s\n",
      "[CV] END ....C=7.011150117432088, gamma=0.026070247583707663; total time=   9.8s\n",
      "[CV] END ....C=7.011150117432088, gamma=0.026070247583707663; total time=  10.1s\n",
      "[CV] END ....C=7.011150117432088, gamma=0.026070247583707663; total time=  10.2s\n",
      "[CV] END .....C=1.2058449429580245, gamma=0.0870602087830485; total time=   9.5s\n",
      "[CV] END .....C=1.2058449429580245, gamma=0.0870602087830485; total time=   9.6s\n",
      "[CV] END .....C=1.2058449429580245, gamma=0.0870602087830485; total time=   9.4s\n",
      "[CV] END ...C=9.324426408004218, gamma=0.0026587543983272693; total time=  10.0s\n",
      "[CV] END ...C=9.324426408004218, gamma=0.0026587543983272693; total time=  10.0s\n",
      "[CV] END ...C=9.324426408004218, gamma=0.0026587543983272693; total time=   9.7s\n",
      "[CV] END ...C=2.818249672071006, gamma=0.0023270677083837795; total time=  10.3s\n",
      "[CV] END ...C=2.818249672071006, gamma=0.0023270677083837795; total time=  10.1s\n",
      "[CV] END ...C=2.818249672071006, gamma=0.0023270677083837795; total time=   9.7s\n",
      "[CV] END ....C=4.042422429595377, gamma=0.011207606211860567; total time=   9.7s\n",
      "[CV] END ....C=4.042422429595377, gamma=0.011207606211860567; total time=   9.6s\n",
      "[CV] END ....C=4.042422429595377, gamma=0.011207606211860567; total time=   9.7s\n",
      "[CV] END ....C=5.319450186421157, gamma=0.003823475224675185; total time=   9.9s\n",
      "[CV] END ....C=5.319450186421157, gamma=0.003823475224675185; total time=   9.9s\n",
      "[CV] END ....C=5.319450186421157, gamma=0.003823475224675185; total time=  16.7s\n"
     ]
    },
    {
     "data": {
      "text/plain": [
       "RandomizedSearchCV(cv=3, estimator=SVR(),\n",
       "                   param_distributions={'C': <scipy.stats._distn_infrastructure.rv_frozen object at 0x000001D0CE13C9D0>,\n",
       "                                        'gamma': <scipy.stats._distn_infrastructure.rv_frozen object at 0x000001D0CFB46B50>},\n",
       "                   random_state=42, verbose=2)"
      ]
     },
     "execution_count": 26,
     "metadata": {},
     "output_type": "execute_result"
    }
   ],
   "source": [
    "from sklearn.svm import SVR\n",
    "from sklearn.model_selection import RandomizedSearchCV\n",
    "from scipy.stats import reciprocal, uniform\n",
    "\n",
    "param_distributions = {\"gamma\": reciprocal(0.001, 0.1), \"C\": uniform(1, 10)}\n",
    "rnd_search_cv = RandomizedSearchCV(SVR(), param_distributions, n_iter=10, verbose=2, cv=3, random_state=42)\n",
    "rnd_search_cv.fit(X_train_scaled, y_train)"
   ]
  },
  {
   "cell_type": "code",
   "execution_count": 27,
   "id": "9ec8a582",
   "metadata": {},
   "outputs": [
    {
     "data": {
      "text/plain": [
       "SVR(C=4.745401188473625, gamma=0.07969454818643928)"
      ]
     },
     "execution_count": 27,
     "metadata": {},
     "output_type": "execute_result"
    }
   ],
   "source": [
    "rnd_search_cv.best_estimator_"
   ]
  },
  {
   "cell_type": "code",
   "execution_count": 28,
   "id": "29ac2520",
   "metadata": {},
   "outputs": [
    {
     "data": {
      "text/plain": [
       "0.5727524770785369"
      ]
     },
     "execution_count": 28,
     "metadata": {},
     "output_type": "execute_result"
    }
   ],
   "source": [
    "y_pred = rnd_search_cv.best_estimator_.predict(X_train_scaled)\n",
    "mse = mean_squared_error(y_train, y_pred)\n",
    "np.sqrt(mse)"
   ]
  },
  {
   "cell_type": "code",
   "execution_count": 29,
   "id": "7446811e",
   "metadata": {},
   "outputs": [
    {
     "data": {
      "text/plain": [
       "0.5929168385528745"
      ]
     },
     "execution_count": 29,
     "metadata": {},
     "output_type": "execute_result"
    }
   ],
   "source": [
    "y_pred = rnd_search_cv.best_estimator_.predict(X_test_scaled)\n",
    "mse = mean_squared_error(y_test, y_pred)\n",
    "np.sqrt(mse)"
   ]
  },
  {
   "cell_type": "code",
   "execution_count": null,
   "id": "5762878b",
   "metadata": {},
   "outputs": [],
   "source": []
  }
 ],
 "metadata": {
  "kernelspec": {
   "display_name": "Python 3",
   "language": "python",
   "name": "python3"
  },
  "language_info": {
   "codemirror_mode": {
    "name": "ipython",
    "version": 3
   },
   "file_extension": ".py",
   "mimetype": "text/x-python",
   "name": "python",
   "nbconvert_exporter": "python",
   "pygments_lexer": "ipython3",
   "version": "3.8.8"
  }
 },
 "nbformat": 4,
 "nbformat_minor": 5
}
